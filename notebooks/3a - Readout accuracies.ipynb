{
 "cells": [
  {
   "cell_type": "code",
   "execution_count": 1,
   "id": "e64ddfde-1742-4ef7-b8e4-96afec05cdeb",
   "metadata": {},
   "outputs": [],
   "source": [
    "import numpy as np\n",
    "import matplotlib.pyplot as plt\n",
    "\n",
    "import torch\n",
    "import torch.nn.functional as F\n",
    "\n",
    "from tensorboard.backend.event_processing import event_accumulator\n",
    "\n",
    "import matplotlib.pyplot as plt\n",
    "import seaborn as sns\n",
    "import numpy as np\n",
    "\n",
    "import os\n",
    "\n",
    "import project_path\n",
    "\n",
    "# plt.style.use('seaborn-darkgrid')"
   ]
  },
  {
   "cell_type": "code",
   "execution_count": 2,
   "id": "8f01eacc-a6c0-43e5-834d-a70d4156ba0f",
   "metadata": {},
   "outputs": [],
   "source": [
    "def get_vals_from_tensorboard(path, tag):\n",
    "    ea = event_accumulator.EventAccumulator(path,\n",
    "                                            size_guidance={ # see below regarding this argument\n",
    "                                                event_accumulator.COMPRESSED_HISTOGRAMS: 500,\n",
    "                                                event_accumulator.IMAGES: 4,\n",
    "                                                event_accumulator.AUDIO: 4,\n",
    "                                                event_accumulator.SCALARS: 0,\n",
    "                                                event_accumulator.HISTOGRAMS: 1,\n",
    "                                            })\n",
    "    ea.Reload()\n",
    "    w_times, step_nums, vals = zip(*ea.Scalars(tag))\n",
    "    return vals"
   ]
  },
  {
   "cell_type": "code",
   "execution_count": 3,
   "id": "6a483fa1",
   "metadata": {},
   "outputs": [],
   "source": [
    "outputdir = os.path.expanduser(\"~/data/plots_of_the_day/lpl/fig_deep_networks\")\n",
    "os.makedirs(outputdir, exist_ok=True)"
   ]
  },
  {
   "cell_type": "markdown",
   "id": "d22ba503-4caa-436f-907f-b981dc2d5695",
   "metadata": {},
   "source": [
    "# STL-10"
   ]
  },
  {
   "cell_type": "code",
   "execution_count": 4,
   "id": "dc1a9970-402e-4f78-acd7-a74fa48b93a8",
   "metadata": {},
   "outputs": [],
   "source": [
    "ACC_TAG = 'Performance/linear_readout_acc'\n",
    "DIMENSION_TAG = 'Manifold Metrics/mean_class_dim'\n",
    "logdir = os.path.expanduser(\"~/data/lpl/stl10\")\n",
    "logdir_no_pooling = os.path.expanduser(\"~/data/lpl/stl10_downsampled\")"
   ]
  },
  {
   "cell_type": "code",
   "execution_count": 5,
   "id": "3f7d4189-cb5a-4f85-8eae-80333c36b85e",
   "metadata": {},
   "outputs": [],
   "source": [
    "paths = {}\n",
    "\n",
    "dims = {}\n",
    "accs = {}\n",
    "lens = {}"
   ]
  },
  {
   "cell_type": "code",
   "execution_count": 6,
   "id": "75606fda-b850-4c42-9d01-4f8ae8a62bc0",
   "metadata": {
    "tags": []
   },
   "outputs": [],
   "source": [
    "paths['lpl'] = 'run_'\n",
    "paths['lpl_e2e'] = 'run_'\n",
    "\n",
    "paths['pred_off'] = 'pred_off_'\n",
    "paths['pred_off_e2e'] = 'pred_off_'\n",
    "\n",
    "paths['hebb_off'] = 'hebb_off_'\n",
    "paths['hebb_off_e2e'] = 'hebb_off_'\n",
    "\n",
    "paths['decorr_off'] = 'decorr_off_'\n",
    "paths['decorr_off_e2e'] = 'decorr_off_'"
   ]
  },
  {
   "cell_type": "code",
   "execution_count": 7,
   "id": "36d3589e-2815-4a5d-89e1-a414fca9e002",
   "metadata": {},
   "outputs": [],
   "source": [
    "for key in paths:\n",
    "    accs[key] = []\n",
    "    lens[key] = []\n",
    "    dims[key] = []"
   ]
  },
  {
   "cell_type": "code",
   "execution_count": 8,
   "id": "44ccd9ec",
   "metadata": {},
   "outputs": [],
   "source": [
    "num_runs = 4"
   ]
  },
  {
   "cell_type": "code",
   "execution_count": 9,
   "id": "a7ba6f72-ede6-4f3e-9fdf-aeda27aae3fe",
   "metadata": {
    "tags": []
   },
   "outputs": [
    {
     "name": "stdout",
     "output_type": "stream",
     "text": [
      "/home_fmi/01/srinmanu/data/lpl/stl10/run_1/lpl\n",
      "/home_fmi/01/srinmanu/data/lpl/stl10/run_2/lpl\n",
      "/home_fmi/01/srinmanu/data/lpl/stl10/run_3/lpl\n",
      "/home_fmi/01/srinmanu/data/lpl/stl10/run_4/lpl\n",
      "/home_fmi/01/srinmanu/data/lpl/stl10/run_1/lpl_end-to-end\n",
      "/home_fmi/01/srinmanu/data/lpl/stl10/run_2/lpl_end-to-end\n",
      "/home_fmi/01/srinmanu/data/lpl/stl10/run_3/lpl_end-to-end\n",
      "/home_fmi/01/srinmanu/data/lpl/stl10/run_4/lpl_end-to-end\n",
      "/home_fmi/01/srinmanu/data/lpl/stl10/pred_off_1/lpl\n",
      "/home_fmi/01/srinmanu/data/lpl/stl10/pred_off_2/lpl\n",
      "/home_fmi/01/srinmanu/data/lpl/stl10/pred_off_3/lpl\n",
      "/home_fmi/01/srinmanu/data/lpl/stl10/pred_off_4/lpl\n",
      "/home_fmi/01/srinmanu/data/lpl/stl10/pred_off_1/lpl_end-to-end\n",
      "/home_fmi/01/srinmanu/data/lpl/stl10/pred_off_2/lpl_end-to-end\n",
      "/home_fmi/01/srinmanu/data/lpl/stl10/pred_off_3/lpl_end-to-end\n",
      "/home_fmi/01/srinmanu/data/lpl/stl10/pred_off_4/lpl_end-to-end\n",
      "/home_fmi/01/srinmanu/data/lpl/stl10/hebb_off_1/lpl\n",
      "/home_fmi/01/srinmanu/data/lpl/stl10/hebb_off_2/lpl\n",
      "/home_fmi/01/srinmanu/data/lpl/stl10/hebb_off_3/lpl\n",
      "/home_fmi/01/srinmanu/data/lpl/stl10/hebb_off_4/lpl\n",
      "/home_fmi/01/srinmanu/data/lpl/stl10/hebb_off_1/lpl_end-to-end\n",
      "/home_fmi/01/srinmanu/data/lpl/stl10/hebb_off_2/lpl_end-to-end\n",
      "/home_fmi/01/srinmanu/data/lpl/stl10/hebb_off_3/lpl_end-to-end\n",
      "/home_fmi/01/srinmanu/data/lpl/stl10/hebb_off_4/lpl_end-to-end\n",
      "/home_fmi/01/srinmanu/data/lpl/stl10/decorr_off_1/lpl\n",
      "/home_fmi/01/srinmanu/data/lpl/stl10/decorr_off_2/lpl\n",
      "/home_fmi/01/srinmanu/data/lpl/stl10/decorr_off_3/lpl\n",
      "/home_fmi/01/srinmanu/data/lpl/stl10/decorr_off_4/lpl\n",
      "/home_fmi/01/srinmanu/data/lpl/stl10/decorr_off_1/lpl_end-to-end\n",
      "/home_fmi/01/srinmanu/data/lpl/stl10/decorr_off_2/lpl_end-to-end\n",
      "/home_fmi/01/srinmanu/data/lpl/stl10/decorr_off_3/lpl_end-to-end\n",
      "/home_fmi/01/srinmanu/data/lpl/stl10/decorr_off_4/lpl_end-to-end\n"
     ]
    }
   ],
   "source": [
    "for key in paths:\n",
    "    for i in range(num_runs):\n",
    "        if 'e2e' in key:\n",
    "            path = os.path.join(logdir, paths[key] + str(i+1), 'lpl_end-to-end')\n",
    "        else:\n",
    "            path = os.path.join(logdir, paths[key] + str(i+1), 'lpl')\n",
    "        print(path)\n",
    "        \n",
    "        vals = get_vals_from_tensorboard(path, ACC_TAG) \n",
    "        lens[key].append(len(vals))\n",
    "        accs[key].append(vals[-1])\n",
    "        \n",
    "        dims[key].append(get_vals_from_tensorboard(path, DIMENSION_TAG)[-1])"
   ]
  },
  {
   "cell_type": "code",
   "execution_count": 10,
   "id": "cea239d8-03ff-4c2a-9284-6306b13177dd",
   "metadata": {
    "tags": []
   },
   "outputs": [
    {
     "name": "stdout",
     "output_type": "stream",
     "text": [
      "lpl\n",
      "0.6317500025033951\n",
      "0.005680975520038761\n",
      "\n",
      "14.891985177993774\n",
      "0.23905057973475474\n",
      "\n",
      "lpl_e2e\n",
      "0.7251875102519989\n",
      "0.0009416604076317959\n",
      "\n",
      "11.505983591079712\n",
      "0.17015835996435566\n",
      "\n",
      "pred_off\n",
      "0.2696562558412552\n",
      "0.0035004183495933074\n",
      "\n",
      "46.77215385437012\n",
      "2.98733078425932\n",
      "\n",
      "pred_off_e2e\n",
      "0.19984375312924385\n",
      "0.01560107291242148\n",
      "\n",
      "111.08818817138672\n",
      "21.61143956299079\n",
      "\n",
      "hebb_off\n",
      "0.10000000149011612\n",
      "0.0\n",
      "\n",
      "1.000000238418579\n",
      "0.0\n",
      "\n",
      "hebb_off_e2e\n",
      "0.10000000149011612\n",
      "0.0\n",
      "\n",
      "1.0000001788139343\n",
      "5.960464477539063e-08\n",
      "\n",
      "decorr_off\n",
      "0.21725000068545341\n",
      "0.008133652615283146\n",
      "\n",
      "1.0879224240779877\n",
      "0.034743781318290375\n",
      "\n",
      "decorr_off_e2e\n",
      "0.21568749845027924\n",
      "0.041482721051329594\n",
      "\n",
      "1.001764178276062\n",
      "0.0025554421523415662\n",
      "\n"
     ]
    }
   ],
   "source": [
    "mean_accs = {}\n",
    "err_accs = {}\n",
    "\n",
    "mean_dims = {}\n",
    "err_dims = {}\n",
    "\n",
    "for key in paths:\n",
    "    print(key)\n",
    "    print(np.mean(accs[key]))\n",
    "    mean_accs[key] = np.mean(accs[key])\n",
    "    \n",
    "    if num_runs>1:\n",
    "        print(np.std(accs[key]))\n",
    "        err_accs[key] = np.std(accs[key])/np.sqrt(num_runs)\n",
    "    else:\n",
    "        err_accs[key] = 0\n",
    "    \n",
    "    print('')\n",
    "    print(np.mean(dims[key]))\n",
    "    mean_dims[key] = np.mean(dims[key])\n",
    "    \n",
    "    if num_runs>1:\n",
    "        print(np.std(dims[key]))\n",
    "        err_dims[key] = np.std(dims[key])/np.sqrt(num_runs)\n",
    "    else:\n",
    "        err_dims[key] = 0\n",
    "    \n",
    "    print('')"
   ]
  },
  {
   "cell_type": "code",
   "execution_count": 34,
   "id": "c9d17310-e424-43be-a8b1-231dd1a936b7",
   "metadata": {},
   "outputs": [
    {
     "data": {
      "image/png": "[encoded data removed]",
      "text/plain": [
       "<Figure size 660x450 with 1 Axes>"
      ]
     },
     "metadata": {
      "needs_background": "light"
     },
     "output_type": "display_data"
    }
   ],
   "source": [
    "plt.figure(figsize=(2.2, 1.5), dpi=300)\n",
    "\n",
    "barWidth = 0.35\n",
    "\n",
    "r1 = np.arange(4)\n",
    "r2 = [x + barWidth for x in r1]\n",
    "\n",
    "pixel_readout_acc = 0.32 # See notebook 3b\n",
    "\n",
    "plt.bar(r1, [mean_accs['lpl'], mean_accs['pred_off'], mean_accs['hebb_off'], mean_accs['decorr_off']], color ='gray', width = barWidth, yerr = [err_accs['lpl'], err_accs['pred_off'], err_accs['hebb_off'], err_accs['decorr_off']], label='Layer-local', capsize=4)\n",
    "plt.bar(r2, [mean_accs['lpl_e2e'], mean_accs['pred_off_e2e'], mean_accs['hebb_off_e2e'], mean_accs['decorr_off_e2e']], color ='gray', width = barWidth, yerr = [err_accs['lpl_e2e'], err_accs['pred_off_e2e'], err_accs['hebb_off_e2e'], err_accs['decorr_off_e2e']], label='End-to-end', alpha=0.5, capsize=4)\n",
    "plt.xticks([r + 0.5*barWidth for r in range(len(r1))], ['LPL', 'Pred. off', 'Hebb off', 'Decorr. off'], fontsize=8)\n",
    "plt.hlines(0.1, -0.2, 3.6, color='k', linewidth=0.8, linestyle='dotted', label='Chance level')\n",
    "plt.hlines(pixel_readout_acc, -0.2, 3.6, color='k', linestyle='--', label='Pixel readout')\n",
    "# plt.hlines(mean_accs['supervised'], -0.2, 2.6, color='k', linestyle='-.', label='Supervised')\n",
    "plt.ylabel('Lin. readout acc.', fontsize=8)\n",
    "\n",
    "handles,labels = plt.gca().get_legend_handles_labels()\n",
    "handles = [handles[2], handles[3], handles[1], handles[0]]\n",
    "labels = [labels[2], labels[3], labels[1], labels[0]]\n",
    "lgd = plt.legend(handles, labels, frameon=False, fontsize=6)\n",
    "\n",
    "plt.xticks(rotation=45, fontsize=8)\n",
    "# plt.tight_layout()\n",
    "ax = plt.gca()\n",
    "ax.tick_params(axis = 'both', which = 'major', labelsize=8)\n",
    "sns.despine()\n",
    "plt.savefig(os.path.join(outputdir,'deep_net_acc_stl.pdf'), bbox_inches='tight')"
   ]
  },
  {
   "cell_type": "code",
   "execution_count": 12,
   "id": "cf1179be",
   "metadata": {},
   "outputs": [
    {
     "data": {
      "image/png": "[encoded data removed]",
      "text/plain": [
       "<Figure size 660x450 with 1 Axes>"
      ]
     },
     "metadata": {
      "needs_background": "light"
     },
     "output_type": "display_data"
    }
   ],
   "source": [
    "plt.figure(figsize=(2.2, 1.5), dpi=300)\n",
    "\n",
    "barWidth = 0.35\n",
    "\n",
    "r1 = np.arange(4)\n",
    "r2 = [x + barWidth for x in r1]\n",
    "\n",
    "plt.bar(r1, [mean_dims['lpl'], mean_dims['pred_off'], mean_dims['hebb_off'], mean_dims['decorr_off']], color ='gray', width = barWidth, yerr = [err_dims['lpl'], err_dims['pred_off'], err_dims['hebb_off'], err_dims['decorr_off']], label='Layer-local', capsize=4)\n",
    "plt.xticks(r1, ['LPL', 'Pred. off', 'Hebb off', 'Decorr. off'], fontsize=8)\n",
    "plt.ylabel('Dimensionality', fontsize=8)\n",
    "plt.xticks(rotation=45, fontsize=8)\n",
    "ax = plt.gca()\n",
    "ax.tick_params(axis = 'both', which = 'major', labelsize=8)\n",
    "ax.set_yscale('log')\n",
    "sns.despine()\n",
    "plt.savefig(os.path.join(outputdir,'deep_net_dim_stl.pdf'), bbox_inches='tight')"
   ]
  },
  {
   "cell_type": "code",
   "execution_count": 35,
   "id": "a86be480",
   "metadata": {},
   "outputs": [
    {
     "data": {
      "text/plain": [
       "{'lpl': 14.891985177993774,\n",
       " 'lpl_e2e': 11.505983591079712,\n",
       " 'pred_off': 46.77215385437012,\n",
       " 'pred_off_e2e': 111.08818817138672,\n",
       " 'hebb_off': 1.000000238418579,\n",
       " 'hebb_off_e2e': 1.0000001788139343,\n",
       " 'decorr_off': 1.0879224240779877,\n",
       " 'decorr_off_e2e': 1.001764178276062,\n",
       " 'supervised': 9.060387134552002,\n",
       " 'supervised_e2e': 7.653300523757935,\n",
       " 'neg_samples': 11.012286186218262,\n",
       " 'neg_samples_e2e': 13.667211055755615,\n",
       " 'no_bias': 13.4554443359375,\n",
       " 'no_pooling': 3.2786386609077454,\n",
       " 'no_pooling_downsampled': 13.856889963150024}"
      ]
     },
     "execution_count": 35,
     "metadata": {},
     "output_type": "execute_result"
    }
   ],
   "source": [
    "mean_dims"
   ]
  },
  {
   "cell_type": "markdown",
   "id": "78094340-c7b8-4252-bb4a-290f801afc39",
   "metadata": {},
   "source": [
    "## Comparison with other methods"
   ]
  },
  {
   "cell_type": "code",
   "execution_count": 13,
   "id": "3f7d4189-cb5a-4f85-8eae-80333c36b85e",
   "metadata": {},
   "outputs": [],
   "source": [
    "paths_baselines = {}\n",
    "model_names = {}\n",
    "\n",
    "dims_baselines = {}\n",
    "accs_baselines = {}\n",
    "lens_baselines = {}"
   ]
  },
  {
   "cell_type": "code",
   "execution_count": 14,
   "id": "75606fda-b850-4c42-9d01-4f8ae8a62bc0",
   "metadata": {
    "tags": []
   },
   "outputs": [],
   "source": [
    "paths_baselines['supervised'] = 'run_'\n",
    "model_names['supervised'] = 'supervised'\n",
    "paths_baselines['supervised_e2e'] = 'run_'\n",
    "model_names['supervised_e2e'] = 'supervised_end-to-end'\n",
    "\n",
    "paths_baselines['neg_samples'] = 'run_'\n",
    "model_names['neg_samples'] = 'negative_samples_mlp-projection'\n",
    "paths_baselines['neg_samples_e2e'] = 'run_'\n",
    "model_names['neg_samples_e2e'] = 'negative_samples_mlp-projection_end-to-end'\n",
    "\n",
    "paths_baselines['no_bias'] = 'bias_free'\n",
    "# paths_baselines['stale'] = 'stale_'\n",
    "paths_baselines['no_pooling'] = 'run_'\n",
    "paths_baselines['no_pooling_downsampled'] = 'run_'\n",
    "\n",
    "model_names['no_bias'] = 'lpl'\n",
    "# model_names['stale'] = 'lpl'\n",
    "model_names['no_pooling'] = 'lpl_no-pooling'\n",
    "model_names['no_pooling_downsampled'] = 'lpl_no-pooling'"
   ]
  },
  {
   "cell_type": "code",
   "execution_count": 15,
   "id": "4ca9c4de",
   "metadata": {},
   "outputs": [],
   "source": [
    "for key in paths_baselines:\n",
    "    accs[key] = []\n",
    "    lens[key] = []\n",
    "    dims[key] = []"
   ]
  },
  {
   "cell_type": "code",
   "execution_count": 16,
   "id": "9999c560",
   "metadata": {},
   "outputs": [
    {
     "name": "stdout",
     "output_type": "stream",
     "text": [
      "/home_fmi/01/srinmanu/data/lpl/stl10/run_1/supervised\n",
      "/home_fmi/01/srinmanu/data/lpl/stl10/run_2/supervised\n",
      "/home_fmi/01/srinmanu/data/lpl/stl10/run_3/supervised\n",
      "/home_fmi/01/srinmanu/data/lpl/stl10/run_4/supervised\n",
      "/home_fmi/01/srinmanu/data/lpl/stl10/run_1/supervised_end-to-end\n",
      "/home_fmi/01/srinmanu/data/lpl/stl10/run_2/supervised_end-to-end\n",
      "/home_fmi/01/srinmanu/data/lpl/stl10/run_3/supervised_end-to-end\n",
      "/home_fmi/01/srinmanu/data/lpl/stl10/run_4/supervised_end-to-end\n",
      "/home_fmi/01/srinmanu/data/lpl/stl10/run_1/negative_samples_mlp-projection\n",
      "/home_fmi/01/srinmanu/data/lpl/stl10/run_2/negative_samples_mlp-projection\n",
      "/home_fmi/01/srinmanu/data/lpl/stl10/run_3/negative_samples_mlp-projection\n",
      "/home_fmi/01/srinmanu/data/lpl/stl10/run_4/negative_samples_mlp-projection\n",
      "/home_fmi/01/srinmanu/data/lpl/stl10/run_1/negative_samples_mlp-projection_end-to-end\n",
      "/home_fmi/01/srinmanu/data/lpl/stl10/run_2/negative_samples_mlp-projection_end-to-end\n",
      "/home_fmi/01/srinmanu/data/lpl/stl10/run_3/negative_samples_mlp-projection_end-to-end\n",
      "/home_fmi/01/srinmanu/data/lpl/stl10/run_4/negative_samples_mlp-projection_end-to-end\n",
      "/home_fmi/01/srinmanu/data/lpl/stl10/bias_free/lpl\n",
      "/home_fmi/01/srinmanu/data/lpl/stl10/bias_free/lpl\n",
      "/home_fmi/01/srinmanu/data/lpl/stl10/bias_free/lpl\n",
      "/home_fmi/01/srinmanu/data/lpl/stl10/bias_free/lpl\n",
      "/home_fmi/01/srinmanu/data/lpl/stl10/run_1/lpl_no-pooling\n",
      "/home_fmi/01/srinmanu/data/lpl/stl10/run_2/lpl_no-pooling\n",
      "/home_fmi/01/srinmanu/data/lpl/stl10/run_3/lpl_no-pooling\n",
      "/home_fmi/01/srinmanu/data/lpl/stl10/run_4/lpl_no-pooling\n",
      "/home_fmi/01/srinmanu/data/lpl/stl10_downsampled/run_1/lpl_no-pooling\n",
      "/home_fmi/01/srinmanu/data/lpl/stl10_downsampled/run_2/lpl_no-pooling\n",
      "/home_fmi/01/srinmanu/data/lpl/stl10_downsampled/run_3/lpl_no-pooling\n",
      "/home_fmi/01/srinmanu/data/lpl/stl10_downsampled/run_4/lpl_no-pooling\n"
     ]
    }
   ],
   "source": [
    "for key in paths_baselines:\n",
    "    for i in range(num_runs):\n",
    "        if 'downsampled' in key:\n",
    "            path = os.path.join(logdir_no_pooling, paths_baselines[key] + str(i+1), model_names[key])\n",
    "        elif key=='no_bias':\n",
    "            path = os.path.join(logdir, paths_baselines[key], model_names[key])\n",
    "        else:\n",
    "            path = os.path.join(logdir, paths_baselines[key] + str(i+1), model_names[key])\n",
    "        print(path)\n",
    "        \n",
    "        vals = get_vals_from_tensorboard(path, ACC_TAG) \n",
    "        lens[key].append(len(vals))\n",
    "        accs[key].append(vals[-1])\n",
    "        dims[key].append(get_vals_from_tensorboard(path, DIMENSION_TAG)[-1])"
   ]
  },
  {
   "cell_type": "code",
   "execution_count": 17,
   "id": "86ae37be",
   "metadata": {},
   "outputs": [
    {
     "name": "stdout",
     "output_type": "stream",
     "text": [
      "supervised\n",
      "0.7080312371253967\n",
      "0.00532195293943307\n",
      "\n",
      "9.060387134552002\n",
      "0.517850112420828\n",
      "\n",
      "supervised_e2e\n",
      "0.7781562507152557\n",
      "0.005411466712514611\n",
      "\n",
      "7.653300523757935\n",
      "1.3922694221813134\n",
      "\n",
      "neg_samples\n",
      "0.7696249932050705\n",
      "0.0037468665939827017\n",
      "\n",
      "11.012286186218262\n",
      "0.22930673827028283\n",
      "\n",
      "neg_samples_e2e\n",
      "0.810062512755394\n",
      "0.004380795783217981\n",
      "\n",
      "13.667211055755615\n",
      "0.39856567969755224\n",
      "\n",
      "no_bias\n",
      "0.5871250033378601\n",
      "0.0\n",
      "\n",
      "13.4554443359375\n",
      "0.0\n",
      "\n",
      "no_pooling\n",
      "0.29215624928474426\n",
      "0.03544817356723245\n",
      "\n",
      "3.2786386609077454\n",
      "0.2449718973312198\n",
      "\n",
      "no_pooling_downsampled\n",
      "0.45250000804662704\n",
      "0.008095617713064312\n",
      "\n",
      "13.856889963150024\n",
      "0.6466970762800388\n",
      "\n"
     ]
    }
   ],
   "source": [
    "for key in paths_baselines:\n",
    "    print(key)\n",
    "    print(np.mean(accs[key]))\n",
    "    mean_accs[key] = np.mean(accs[key])\n",
    "    \n",
    "    if num_runs>1:\n",
    "        print(np.std(accs[key]))\n",
    "        err_accs[key] = np.std(accs[key])/np.sqrt(num_runs)\n",
    "    else:\n",
    "        err_accs[key] = 0\n",
    "    \n",
    "    print('')\n",
    "    print(np.mean(dims[key]))\n",
    "    mean_dims[key] = np.mean(dims[key])\n",
    "    \n",
    "    if num_runs>1:\n",
    "        print(np.std(dims[key]))\n",
    "        err_dims[key] = np.std(dims[key])/np.sqrt(num_runs)\n",
    "    else:\n",
    "        err_dims[key] = 0\n",
    "    \n",
    "    print('')"
   ]
  },
  {
   "cell_type": "code",
   "execution_count": 18,
   "id": "3897528e",
   "metadata": {},
   "outputs": [
    {
     "data": {
      "text/plain": [
       "{'lpl': 0.6317500025033951,\n",
       " 'lpl_e2e': 0.7251875102519989,\n",
       " 'pred_off': 0.2696562558412552,\n",
       " 'pred_off_e2e': 0.19984375312924385,\n",
       " 'hebb_off': 0.10000000149011612,\n",
       " 'hebb_off_e2e': 0.10000000149011612,\n",
       " 'decorr_off': 0.21725000068545341,\n",
       " 'decorr_off_e2e': 0.21568749845027924,\n",
       " 'supervised': 0.7080312371253967,\n",
       " 'supervised_e2e': 0.7781562507152557,\n",
       " 'neg_samples': 0.7696249932050705,\n",
       " 'neg_samples_e2e': 0.810062512755394,\n",
       " 'no_bias': 0.5871250033378601,\n",
       " 'no_pooling': 0.29215624928474426,\n",
       " 'no_pooling_downsampled': 0.45250000804662704}"
      ]
     },
     "execution_count": 18,
     "metadata": {},
     "output_type": "execute_result"
    }
   ],
   "source": [
    "mean_accs"
   ]
  },
  {
   "cell_type": "code",
   "execution_count": 19,
   "id": "6a911e33",
   "metadata": {},
   "outputs": [
    {
     "data": {
      "text/plain": [
       "{'lpl': 0.0028404877600193804,\n",
       " 'lpl_e2e': 0.00047083020381589796,\n",
       " 'pred_off': 0.0017502091747966537,\n",
       " 'pred_off_e2e': 0.00780053645621074,\n",
       " 'hebb_off': 0.0,\n",
       " 'hebb_off_e2e': 0.0,\n",
       " 'decorr_off': 0.004066826307641573,\n",
       " 'decorr_off_e2e': 0.020741360525664797,\n",
       " 'supervised': 0.002660976469716535,\n",
       " 'supervised_e2e': 0.0027057333562573054,\n",
       " 'neg_samples': 0.0018734332969913509,\n",
       " 'neg_samples_e2e': 0.0021903978916089904,\n",
       " 'no_bias': 0.0,\n",
       " 'no_pooling': 0.017724086783616224,\n",
       " 'no_pooling_downsampled': 0.004047808856532156}"
      ]
     },
     "execution_count": 19,
     "metadata": {},
     "output_type": "execute_result"
    }
   ],
   "source": [
    "err_accs"
   ]
  },
  {
   "cell_type": "markdown",
   "id": "51d1e5fc-0201-49dd-bcf0-b34b70ef7dbd",
   "metadata": {},
   "source": [
    "# CIFAR-10"
   ]
  },
  {
   "cell_type": "code",
   "execution_count": null,
   "id": "dc1a9970-402e-4f78-acd7-a74fa48b93a8",
   "metadata": {},
   "outputs": [],
   "source": [
    "ACC_TAG = 'Performance/linear_readout_acc'\n",
    "DIMENSION_TAG = 'Manifold Metrics/mean_class_dim'\n",
    "logdir = os.path.expanduser(\"~/data/lpl/cifar10\")"
   ]
  },
  {
   "cell_type": "code",
   "execution_count": null,
   "id": "3f7d4189-cb5a-4f85-8eae-80333c36b85e",
   "metadata": {},
   "outputs": [],
   "source": [
    "paths = {}\n",
    "\n",
    "dims = {}\n",
    "accs = {}\n",
    "lens = {}"
   ]
  },
  {
   "cell_type": "code",
   "execution_count": null,
   "id": "75606fda-b850-4c42-9d01-4f8ae8a62bc0",
   "metadata": {
    "tags": []
   },
   "outputs": [],
   "source": [
    "paths['lpl'] = 'run_'\n",
    "paths['lpl_e2e'] = 'run_'\n",
    "\n",
    "paths['pred_off'] = 'pred_off_'\n",
    "paths['pred_off_e2e'] = 'pred_off_'\n",
    "\n",
    "paths['hebb_off'] = 'hebb_off_'\n",
    "paths['hebb_off_e2e'] = 'hebb_off_'\n",
    "\n",
    "paths['decorr_off'] = 'decorr_off_'\n",
    "paths['decorr_off_e2e'] = 'decorr_off_'"
   ]
  },
  {
   "cell_type": "code",
   "execution_count": null,
   "id": "36d3589e-2815-4a5d-89e1-a414fca9e002",
   "metadata": {},
   "outputs": [],
   "source": [
    "for key in paths:\n",
    "    accs[key] = []\n",
    "    lens[key] = []\n",
    "    dims[key] = []"
   ]
  },
  {
   "cell_type": "code",
   "execution_count": null,
   "id": "44ccd9ec",
   "metadata": {},
   "outputs": [],
   "source": [
    "num_runs = 4"
   ]
  },
  {
   "cell_type": "code",
   "execution_count": null,
   "id": "a7ba6f72-ede6-4f3e-9fdf-aeda27aae3fe",
   "metadata": {
    "tags": []
   },
   "outputs": [
    {
     "name": "stdout",
     "output_type": "stream",
     "text": [
      "/home_fmi/01/srinmanu/data/lpl/stl10/run_1/lpl\n",
      "/home_fmi/01/srinmanu/data/lpl/stl10/run_2/lpl\n",
      "/home_fmi/01/srinmanu/data/lpl/stl10/run_3/lpl\n",
      "/home_fmi/01/srinmanu/data/lpl/stl10/run_4/lpl\n",
      "/home_fmi/01/srinmanu/data/lpl/stl10/run_1/lpl_end-to-end\n",
      "/home_fmi/01/srinmanu/data/lpl/stl10/run_2/lpl_end-to-end\n",
      "/home_fmi/01/srinmanu/data/lpl/stl10/run_3/lpl_end-to-end\n",
      "/home_fmi/01/srinmanu/data/lpl/stl10/run_4/lpl_end-to-end\n",
      "/home_fmi/01/srinmanu/data/lpl/stl10/pred_off_1/lpl\n",
      "/home_fmi/01/srinmanu/data/lpl/stl10/pred_off_2/lpl\n",
      "/home_fmi/01/srinmanu/data/lpl/stl10/pred_off_3/lpl\n",
      "/home_fmi/01/srinmanu/data/lpl/stl10/pred_off_4/lpl\n",
      "/home_fmi/01/srinmanu/data/lpl/stl10/pred_off_1/lpl_end-to-end\n",
      "/home_fmi/01/srinmanu/data/lpl/stl10/pred_off_2/lpl_end-to-end\n",
      "/home_fmi/01/srinmanu/data/lpl/stl10/pred_off_3/lpl_end-to-end\n",
      "/home_fmi/01/srinmanu/data/lpl/stl10/pred_off_4/lpl_end-to-end\n",
      "/home_fmi/01/srinmanu/data/lpl/stl10/hebb_off_1/lpl\n",
      "/home_fmi/01/srinmanu/data/lpl/stl10/hebb_off_2/lpl\n",
      "/home_fmi/01/srinmanu/data/lpl/stl10/hebb_off_3/lpl\n",
      "/home_fmi/01/srinmanu/data/lpl/stl10/hebb_off_4/lpl\n",
      "/home_fmi/01/srinmanu/data/lpl/stl10/hebb_off_1/lpl_end-to-end\n",
      "/home_fmi/01/srinmanu/data/lpl/stl10/hebb_off_2/lpl_end-to-end\n",
      "/home_fmi/01/srinmanu/data/lpl/stl10/hebb_off_3/lpl_end-to-end\n",
      "/home_fmi/01/srinmanu/data/lpl/stl10/hebb_off_4/lpl_end-to-end\n",
      "/home_fmi/01/srinmanu/data/lpl/stl10/decorr_off_1/lpl\n",
      "/home_fmi/01/srinmanu/data/lpl/stl10/decorr_off_2/lpl\n",
      "/home_fmi/01/srinmanu/data/lpl/stl10/decorr_off_3/lpl\n",
      "/home_fmi/01/srinmanu/data/lpl/stl10/decorr_off_4/lpl\n",
      "/home_fmi/01/srinmanu/data/lpl/stl10/decorr_off_1/lpl_end-to-end\n",
      "/home_fmi/01/srinmanu/data/lpl/stl10/decorr_off_2/lpl_end-to-end\n",
      "/home_fmi/01/srinmanu/data/lpl/stl10/decorr_off_3/lpl_end-to-end\n",
      "/home_fmi/01/srinmanu/data/lpl/stl10/decorr_off_4/lpl_end-to-end\n"
     ]
    }
   ],
   "source": [
    "for key in paths:\n",
    "    for i in range(num_runs):\n",
    "        if 'e2e' in key:\n",
    "            path = os.path.join(logdir, paths[key] + str(i+1), 'lpl_end-to-end')\n",
    "        else:\n",
    "            path = os.path.join(logdir, paths[key] + str(i+1), 'lpl')\n",
    "        print(path)\n",
    "        \n",
    "        vals = get_vals_from_tensorboard(path, ACC_TAG) \n",
    "        lens[key].append(len(vals))\n",
    "        accs[key].append(vals[-1])\n",
    "        \n",
    "        dims[key].append(get_vals_from_tensorboard(path, DIMENSION_TAG)[-1])"
   ]
  },
  {
   "cell_type": "code",
   "execution_count": null,
   "id": "cea239d8-03ff-4c2a-9284-6306b13177dd",
   "metadata": {
    "tags": []
   },
   "outputs": [
    {
     "name": "stdout",
     "output_type": "stream",
     "text": [
      "lpl\n",
      "0.6317500025033951\n",
      "0.005680975520038761\n",
      "\n",
      "14.891985177993774\n",
      "0.23905057973475474\n",
      "\n",
      "lpl_e2e\n",
      "0.7251875102519989\n",
      "0.0009416604076317959\n",
      "\n",
      "11.505983591079712\n",
      "0.17015835996435566\n",
      "\n",
      "pred_off\n",
      "0.2696562558412552\n",
      "0.0035004183495933074\n",
      "\n",
      "46.77215385437012\n",
      "2.98733078425932\n",
      "\n",
      "pred_off_e2e\n",
      "0.19984375312924385\n",
      "0.01560107291242148\n",
      "\n",
      "111.08818817138672\n",
      "21.61143956299079\n",
      "\n",
      "hebb_off\n",
      "0.10000000149011612\n",
      "0.0\n",
      "\n",
      "1.000000238418579\n",
      "0.0\n",
      "\n",
      "hebb_off_e2e\n",
      "0.10000000149011612\n",
      "0.0\n",
      "\n",
      "1.0000001788139343\n",
      "5.960464477539063e-08\n",
      "\n",
      "decorr_off\n",
      "0.21725000068545341\n",
      "0.008133652615283146\n",
      "\n",
      "1.0879224240779877\n",
      "0.034743781318290375\n",
      "\n",
      "decorr_off_e2e\n",
      "0.21568749845027924\n",
      "0.041482721051329594\n",
      "\n",
      "1.001764178276062\n",
      "0.0025554421523415662\n",
      "\n"
     ]
    }
   ],
   "source": [
    "mean_accs = {}\n",
    "err_accs = {}\n",
    "\n",
    "mean_dims = {}\n",
    "err_dims = {}\n",
    "\n",
    "for key in paths:\n",
    "    print(key)\n",
    "    print(np.mean(accs[key]))\n",
    "    mean_accs[key] = np.mean(accs[key])\n",
    "    \n",
    "    if num_runs>1:\n",
    "        print(np.std(accs[key]))\n",
    "        err_accs[key] = np.std(accs[key])/np.sqrt(num_runs)\n",
    "    else:\n",
    "        err_accs[key] = 0\n",
    "    \n",
    "    print('')\n",
    "    print(np.mean(dims[key]))\n",
    "    mean_dims[key] = np.mean(dims[key])\n",
    "    \n",
    "    if num_runs>1:\n",
    "        print(np.std(dims[key]))\n",
    "        err_dims[key] = np.std(dims[key])/np.sqrt(num_runs)\n",
    "    else:\n",
    "        err_dims[key] = 0\n",
    "    \n",
    "    print('')"
   ]
  },
  {
   "cell_type": "code",
   "execution_count": null,
   "id": "c9d17310-e424-43be-a8b1-231dd1a936b7",
   "metadata": {},
   "outputs": [
    {
     "data": {
      "image/png": "[encoded data removed]",
      "text/plain": [
       "<Figure size 660x450 with 1 Axes>"
      ]
     },
     "metadata": {},
     "output_type": "display_data"
    }
   ],
   "source": [
    "plt.figure(figsize=(2.2, 1.5), dpi=300)\n",
    "\n",
    "barWidth = 0.35\n",
    "\n",
    "r1 = np.arange(4)\n",
    "r2 = [x + barWidth for x in r1]\n",
    "\n",
    "pixel_readout_acc = 0.32 # See notebook 3b\n",
    "\n",
    "plt.bar(r1, [mean_accs['lpl'], mean_accs['pred_off'], mean_accs['hebb_off'], mean_accs['decorr_off']], color ='gray', width = barWidth, yerr = [err_accs['lpl'], err_accs['pred_off'], err_accs['hebb_off'], err_accs['decorr_off']], label='Layer-local', capsize=4)\n",
    "plt.bar(r2, [mean_accs['lpl_e2e'], mean_accs['pred_off_e2e'], mean_accs['hebb_off_e2e'], mean_accs['decorr_off_e2e']], color ='gray', width = barWidth, yerr = [err_accs['lpl_e2e'], err_accs['pred_off_e2e'], err_accs['hebb_off_e2e'], err_accs['decorr_off_e2e']], label='End-to-end', alpha=0.5, capsize=4)\n",
    "plt.xticks([r + 0.5*barWidth for r in range(len(r1))], ['LPL', 'Pred. off', 'Hebb off', 'Decorr. off'], fontsize=8)\n",
    "plt.hlines(0.1, -0.2, 3.6, color='k', linewidth=0.8, linestyle='dotted', label='Chance level')\n",
    "plt.hlines(pixel_readout_acc, -0.2, 3.6, color='k', linestyle='--', label='Pixel readout')\n",
    "# plt.hlines(mean_accs['supervised'], -0.2, 2.6, color='k', linestyle='-.', label='Supervised')\n",
    "plt.ylabel('Lin. readout acc.', fontsize=8)\n",
    "\n",
    "handles,labels = plt.gca().get_legend_handles_labels()\n",
    "handles = [handles[2], handles[3], handles[1], handles[0]]\n",
    "labels = [labels[2], labels[3], labels[1], labels[0]]\n",
    "lgd = plt.legend(handles, labels, frameon=False, fontsize=6)\n",
    "\n",
    "plt.xticks(rotation=45, fontsize=8)\n",
    "# plt.tight_layout()\n",
    "ax = plt.gca()\n",
    "ax.tick_params(axis = 'both', which = 'major', labelsize=8)\n",
    "sns.despine()\n",
    "plt.savefig(os.path.join(outputdir,'deep_net_acc_cifar.pdf'), bbox_inches='tight')"
   ]
  },
  {
   "cell_type": "code",
   "execution_count": null,
   "id": "cf1179be",
   "metadata": {},
   "outputs": [
    {
     "data": {
      "image/png": "[encoded data removed]",
      "text/plain": [
       "<Figure size 660x450 with 1 Axes>"
      ]
     },
     "metadata": {},
     "output_type": "display_data"
    }
   ],
   "source": [
    "plt.figure(figsize=(2.2, 1.5), dpi=300)\n",
    "\n",
    "barWidth = 0.35\n",
    "\n",
    "r1 = np.arange(4)\n",
    "r2 = [x + barWidth for x in r1]\n",
    "\n",
    "plt.bar(r1, [mean_dims['lpl'], mean_dims['pred_off'], mean_dims['hebb_off'], mean_dims['decorr_off']], color ='gray', width = barWidth, yerr = [err_dims['lpl'], err_dims['pred_off'], err_dims['hebb_off'], err_dims['decorr_off']], label='Layer-local', capsize=4)\n",
    "plt.xticks(r1, ['LPL', 'Pred. off', 'Hebb off', 'Decorr. off'], fontsize=8)\n",
    "plt.ylabel('Dimensionality', fontsize=8)\n",
    "plt.xticks(rotation=45, fontsize=8)\n",
    "ax = plt.gca()\n",
    "ax.tick_params(axis = 'both', which = 'major', labelsize=8)\n",
    "ax.set_yscale('log')\n",
    "sns.despine()\n",
    "plt.savefig(os.path.join(outputdir,'deep_net_dim_cifar.pdf'), bbox_inches='tight')"
   ]
  },
  {
   "cell_type": "code",
   "execution_count": null,
   "id": "a86be480",
   "metadata": {},
   "outputs": [
    {
     "data": {
      "text/plain": [
       "{'lpl': 14.891985177993774,\n",
       " 'lpl_e2e': 11.505983591079712,\n",
       " 'pred_off': 46.77215385437012,\n",
       " 'pred_off_e2e': 111.08818817138672,\n",
       " 'hebb_off': 1.000000238418579,\n",
       " 'hebb_off_e2e': 1.0000001788139343,\n",
       " 'decorr_off': 1.0879224240779877,\n",
       " 'decorr_off_e2e': 1.001764178276062,\n",
       " 'supervised': 9.060387134552002,\n",
       " 'supervised_e2e': 7.653300523757935,\n",
       " 'neg_samples': 11.012286186218262,\n",
       " 'neg_samples_e2e': 13.667211055755615,\n",
       " 'no_bias': 13.4554443359375,\n",
       " 'no_pooling': 3.2786386609077454,\n",
       " 'no_pooling_downsampled': 13.856889963150024}"
      ]
     },
     "metadata": {},
     "output_type": "display_data"
    }
   ],
   "source": [
    "mean_dims"
   ]
  },
  {
   "cell_type": "markdown",
   "id": "78094340-c7b8-4252-bb4a-290f801afc39",
   "metadata": {},
   "source": [
    "## Comparison with other methods"
   ]
  },
  {
   "cell_type": "code",
   "execution_count": null,
   "id": "3f7d4189-cb5a-4f85-8eae-80333c36b85e",
   "metadata": {},
   "outputs": [],
   "source": [
    "paths_baselines = {}\n",
    "model_names = {}\n",
    "\n",
    "dims_baselines = {}\n",
    "accs_baselines = {}\n",
    "lens_baselines = {}"
   ]
  },
  {
   "cell_type": "code",
   "execution_count": null,
   "id": "75606fda-b850-4c42-9d01-4f8ae8a62bc0",
   "metadata": {
    "tags": []
   },
   "outputs": [],
   "source": [
    "paths_baselines['supervised'] = 'run_'\n",
    "model_names['supervised'] = 'supervised'\n",
    "paths_baselines['supervised_e2e'] = 'run_'\n",
    "model_names['supervised_e2e'] = 'supervised_end-to-end'\n",
    "\n",
    "paths_baselines['neg_samples'] = 'run_'\n",
    "model_names['neg_samples'] = 'negative_samples_mlp-projection'\n",
    "paths_baselines['neg_samples_e2e'] = 'run_'\n",
    "model_names['neg_samples_e2e'] = 'negative_samples_mlp-projection_end-to-end'\n",
    "\n",
    "paths_baselines['no_bias'] = 'bias_free'\n",
    "# paths_baselines['stale'] = 'stale_'\n",
    "paths_baselines['no_pooling'] = 'run_'\n",
    "\n",
    "model_names['no_bias'] = 'lpl'\n",
    "# model_names['stale'] = 'lpl'\n",
    "model_names['no_pooling'] = 'lpl_no-pooling'"
   ]
  },
  {
   "cell_type": "code",
   "execution_count": null,
   "id": "4ca9c4de",
   "metadata": {},
   "outputs": [],
   "source": [
    "for key in paths_baselines:\n",
    "    accs[key] = []\n",
    "    lens[key] = []\n",
    "    dims[key] = []"
   ]
  },
  {
   "cell_type": "code",
   "execution_count": null,
   "id": "9999c560",
   "metadata": {},
   "outputs": [
    {
     "name": "stdout",
     "output_type": "stream",
     "text": [
      "/home_fmi/01/srinmanu/data/lpl/stl10/run_1/supervised\n",
      "/home_fmi/01/srinmanu/data/lpl/stl10/run_2/supervised\n",
      "/home_fmi/01/srinmanu/data/lpl/stl10/run_3/supervised\n",
      "/home_fmi/01/srinmanu/data/lpl/stl10/run_4/supervised\n",
      "/home_fmi/01/srinmanu/data/lpl/stl10/run_1/supervised_end-to-end\n",
      "/home_fmi/01/srinmanu/data/lpl/stl10/run_2/supervised_end-to-end\n",
      "/home_fmi/01/srinmanu/data/lpl/stl10/run_3/supervised_end-to-end\n",
      "/home_fmi/01/srinmanu/data/lpl/stl10/run_4/supervised_end-to-end\n",
      "/home_fmi/01/srinmanu/data/lpl/stl10/run_1/negative_samples_mlp-projection\n",
      "/home_fmi/01/srinmanu/data/lpl/stl10/run_2/negative_samples_mlp-projection\n",
      "/home_fmi/01/srinmanu/data/lpl/stl10/run_3/negative_samples_mlp-projection\n",
      "/home_fmi/01/srinmanu/data/lpl/stl10/run_4/negative_samples_mlp-projection\n",
      "/home_fmi/01/srinmanu/data/lpl/stl10/run_1/negative_samples_mlp-projection_end-to-end\n",
      "/home_fmi/01/srinmanu/data/lpl/stl10/run_2/negative_samples_mlp-projection_end-to-end\n",
      "/home_fmi/01/srinmanu/data/lpl/stl10/run_3/negative_samples_mlp-projection_end-to-end\n",
      "/home_fmi/01/srinmanu/data/lpl/stl10/run_4/negative_samples_mlp-projection_end-to-end\n",
      "/home_fmi/01/srinmanu/data/lpl/stl10/bias_free/lpl\n",
      "/home_fmi/01/srinmanu/data/lpl/stl10/bias_free/lpl\n",
      "/home_fmi/01/srinmanu/data/lpl/stl10/bias_free/lpl\n",
      "/home_fmi/01/srinmanu/data/lpl/stl10/bias_free/lpl\n",
      "/home_fmi/01/srinmanu/data/lpl/stl10/run_1/lpl_no-pooling\n",
      "/home_fmi/01/srinmanu/data/lpl/stl10/run_2/lpl_no-pooling\n",
      "/home_fmi/01/srinmanu/data/lpl/stl10/run_3/lpl_no-pooling\n",
      "/home_fmi/01/srinmanu/data/lpl/stl10/run_4/lpl_no-pooling\n",
      "/home_fmi/01/srinmanu/data/lpl/stl10_downsampled/run_1/lpl_no-pooling\n",
      "/home_fmi/01/srinmanu/data/lpl/stl10_downsampled/run_2/lpl_no-pooling\n",
      "/home_fmi/01/srinmanu/data/lpl/stl10_downsampled/run_3/lpl_no-pooling\n",
      "/home_fmi/01/srinmanu/data/lpl/stl10_downsampled/run_4/lpl_no-pooling\n"
     ]
    }
   ],
   "source": [
    "for key in paths_baselines:\n",
    "    for i in range(num_runs):\n",
    "        if 'downsampled' in key:\n",
    "            path = os.path.join(logdir_no_pooling, paths_baselines[key] + str(i+1), model_names[key])\n",
    "        elif key=='no_bias':\n",
    "            path = os.path.join(logdir, paths_baselines[key], model_names[key])\n",
    "        else:\n",
    "            path = os.path.join(logdir, paths_baselines[key] + str(i+1), model_names[key])\n",
    "        print(path)\n",
    "        \n",
    "        vals = get_vals_from_tensorboard(path, ACC_TAG) \n",
    "        lens[key].append(len(vals))\n",
    "        accs[key].append(vals[-1])\n",
    "        dims[key].append(get_vals_from_tensorboard(path, DIMENSION_TAG)[-1])"
   ]
  },
  {
   "cell_type": "code",
   "execution_count": null,
   "id": "86ae37be",
   "metadata": {},
   "outputs": [
    {
     "name": "stdout",
     "output_type": "stream",
     "text": [
      "supervised\n",
      "0.7080312371253967\n",
      "0.00532195293943307\n",
      "\n",
      "9.060387134552002\n",
      "0.517850112420828\n",
      "\n",
      "supervised_e2e\n",
      "0.7781562507152557\n",
      "0.005411466712514611\n",
      "\n",
      "7.653300523757935\n",
      "1.3922694221813134\n",
      "\n",
      "neg_samples\n",
      "0.7696249932050705\n",
      "0.0037468665939827017\n",
      "\n",
      "11.012286186218262\n",
      "0.22930673827028283\n",
      "\n",
      "neg_samples_e2e\n",
      "0.810062512755394\n",
      "0.004380795783217981\n",
      "\n",
      "13.667211055755615\n",
      "0.39856567969755224\n",
      "\n",
      "no_bias\n",
      "0.5871250033378601\n",
      "0.0\n",
      "\n",
      "13.4554443359375\n",
      "0.0\n",
      "\n",
      "no_pooling\n",
      "0.29215624928474426\n",
      "0.03544817356723245\n",
      "\n",
      "3.2786386609077454\n",
      "0.2449718973312198\n",
      "\n",
      "no_pooling_downsampled\n",
      "0.45250000804662704\n",
      "0.008095617713064312\n",
      "\n",
      "13.856889963150024\n",
      "0.6466970762800388\n",
      "\n"
     ]
    }
   ],
   "source": [
    "for key in paths_baselines:\n",
    "    print(key)\n",
    "    print(np.mean(accs[key]))\n",
    "    mean_accs[key] = np.mean(accs[key])\n",
    "    \n",
    "    if num_runs>1:\n",
    "        print(np.std(accs[key]))\n",
    "        err_accs[key] = np.std(accs[key])/np.sqrt(num_runs)\n",
    "    else:\n",
    "        err_accs[key] = 0\n",
    "    \n",
    "    print('')\n",
    "    print(np.mean(dims[key]))\n",
    "    mean_dims[key] = np.mean(dims[key])\n",
    "    \n",
    "    if num_runs>1:\n",
    "        print(np.std(dims[key]))\n",
    "        err_dims[key] = np.std(dims[key])/np.sqrt(num_runs)\n",
    "    else:\n",
    "        err_dims[key] = 0\n",
    "    \n",
    "    print('')"
   ]
  },
  {
   "cell_type": "code",
   "execution_count": null,
   "id": "3897528e",
   "metadata": {},
   "outputs": [
    {
     "data": {
      "text/plain": [
       "{'lpl': 0.6317500025033951,\n",
       " 'lpl_e2e': 0.7251875102519989,\n",
       " 'pred_off': 0.2696562558412552,\n",
       " 'pred_off_e2e': 0.19984375312924385,\n",
       " 'hebb_off': 0.10000000149011612,\n",
       " 'hebb_off_e2e': 0.10000000149011612,\n",
       " 'decorr_off': 0.21725000068545341,\n",
       " 'decorr_off_e2e': 0.21568749845027924,\n",
       " 'supervised': 0.7080312371253967,\n",
       " 'supervised_e2e': 0.7781562507152557,\n",
       " 'neg_samples': 0.7696249932050705,\n",
       " 'neg_samples_e2e': 0.810062512755394,\n",
       " 'no_bias': 0.5871250033378601,\n",
       " 'no_pooling': 0.29215624928474426,\n",
       " 'no_pooling_downsampled': 0.45250000804662704}"
      ]
     },
     "metadata": {},
     "output_type": "display_data"
    }
   ],
   "source": [
    "mean_accs"
   ]
  },
  {
   "cell_type": "code",
   "execution_count": null,
   "id": "6a911e33",
   "metadata": {},
   "outputs": [
    {
     "data": {
      "text/plain": [
       "{'lpl': 0.0028404877600193804,\n",
       " 'lpl_e2e': 0.00047083020381589796,\n",
       " 'pred_off': 0.0017502091747966537,\n",
       " 'pred_off_e2e': 0.00780053645621074,\n",
       " 'hebb_off': 0.0,\n",
       " 'hebb_off_e2e': 0.0,\n",
       " 'decorr_off': 0.004066826307641573,\n",
       " 'decorr_off_e2e': 0.020741360525664797,\n",
       " 'supervised': 0.002660976469716535,\n",
       " 'supervised_e2e': 0.0027057333562573054,\n",
       " 'neg_samples': 0.0018734332969913509,\n",
       " 'neg_samples_e2e': 0.0021903978916089904,\n",
       " 'no_bias': 0.0,\n",
       " 'no_pooling': 0.017724086783616224,\n",
       " 'no_pooling_downsampled': 0.004047808856532156}"
      ]
     },
     "metadata": {},
     "output_type": "display_data"
    }
   ],
   "source": [
    "err_accs"
   ]
  },
  {
   "cell_type": "code",
   "execution_count": null,
   "id": "ed6a76e1-17c7-495c-96dd-f76785afc1b9",
   "metadata": {},
   "outputs": [],
   "source": []
  }
 ],
 "metadata": {
  "interpreter": {
   "hash": "93d18362820b5bb75aa2fbb55a700dae74cf17eaa0fb2ae1bfd13c3f5489ef21"
  },
  "kernelspec": {
   "display_name": "Python3 (pytorch)",
   "language": "python",
   "name": "python3"
  },
  "language_info": {
   "codemirror_mode": {
    "name": "ipython",
    "version": 3
   },
   "file_extension": ".py",
   "mimetype": "text/x-python",
   "name": "python",
   "nbconvert_exporter": "python",
   "pygments_lexer": "ipython3",
   "version": "3.8.10"
  }
 },
 "nbformat": 4,
 "nbformat_minor": 5
}
